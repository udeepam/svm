{
 "cells": [
  {
   "cell_type": "code",
   "execution_count": 1,
   "metadata": {},
   "outputs": [
    {
     "name": "stdout",
     "output_type": "stream",
     "text": [
      "/Users/udeepa/Documents/UCL/Term 2/numerical/svm\n"
     ]
    }
   ],
   "source": [
    "%cd .."
   ]
  },
  {
   "cell_type": "code",
   "execution_count": 2,
   "metadata": {},
   "outputs": [],
   "source": [
    "import numpy as np\n",
    "import matplotlib.pyplot as plt\n",
    "from collections import defaultdict, Counter\n",
    "import time\n",
    "\n",
    "# from opt.svm import SVC\n",
    "from opt.utils.data_splitter import split4ovr, split4ovo, label2binary\n",
    "\n",
    "from sklearn.metrics import accuracy_score, precision_score, recall_score, f1_score, matthews_corrcoef\n",
    "from sklearn.model_selection import StratifiedKFold\n",
    "from sklearn.metrics import confusion_matrix, classification_report"
   ]
  },
  {
   "cell_type": "markdown",
   "metadata": {},
   "source": [
    "### Dataset"
   ]
  },
  {
   "cell_type": "code",
   "execution_count": 3,
   "metadata": {},
   "outputs": [
    {
     "name": "stdout",
     "output_type": "stream",
     "text": [
      "Number of training samples:        600\n",
      "Distribution of training samples:  Counter({1: 300, 0: 300})\n",
      "Number of test samples:            400\n",
      "Distribution of training samples:  Counter({1: 200, 0: 200})\n"
     ]
    }
   ],
   "source": [
    "# Load data\n",
    "data = np.load('data/dummy_binary/filtered_mnist.npz')\n",
    "# data = np.load('data/filtered_mnist.npz')\n",
    "x_train = data['a']\n",
    "y_train = data['b']\n",
    "x_test  = data['c']\n",
    "y_test  = data['d']\n",
    "print(\"Number of training samples:       \", len(y_train))\n",
    "print(\"Distribution of training samples: \", Counter(y_train))\n",
    "print(\"Number of test samples:           \", len(y_test))\n",
    "print(\"Distribution of training samples: \", Counter(y_test))"
   ]
  },
  {
   "cell_type": "code",
   "execution_count": 4,
   "metadata": {},
   "outputs": [
    {
     "data": {
      "text/plain": [
       "<matplotlib.image.AxesImage at 0x1a19317b70>"
      ]
     },
     "execution_count": 4,
     "metadata": {},
     "output_type": "execute_result"
    },
    {
     "data": {
      "image/png": "[encoded data removed]",
      "text/plain": [
       "<Figure size 432x288 with 1 Axes>"
      ]
     },
     "metadata": {
      "needs_background": "light"
     },
     "output_type": "display_data"
    }
   ],
   "source": [
    "# Visualise data\n",
    "imx, imy = (28,28)\n",
    "visual = np.reshape(x_train[0], (imx,imy))\n",
    "plt.title(\"Example Data Image, y=\"+str(int(y_train[0])))\n",
    "plt.imshow(visual, vmin=0, vmax=1)"
   ]
  },
  {
   "cell_type": "markdown",
   "metadata": {},
   "source": [
    "### SVM Model"
   ]
  },
  {
   "cell_type": "code",
   "execution_count": 5,
   "metadata": {},
   "outputs": [],
   "source": [
    "import numpy as np\n",
    "from scipy import stats\n",
    "import cvxopt\n",
    "\n",
    "from opt.algos.interior_point import barrier_method\n",
    "from opt.utils.kernels import polynomial_kernel_matrix, gaussian_kernel_matrix\n",
    "\n",
    "class SVC:\n",
    "    \"\"\"\n",
    "    Multiclass soft-margin kernelised SVM.  \n",
    "    \"\"\"\n",
    "    def __init__(self, C=1.0, kernel=\"gauss\", param=0.5, decision_function_shape=\"ovo\", \n",
    "                 loss_fn='L1', opt_algo=\"smo\"):\n",
    "        \"\"\"\n",
    "        Arguments:\n",
    "        ----------\n",
    "        C : `float`\n",
    "            Regularization parameter. The strength of the regularization is \n",
    "            inversely proportional to C. Must be strictly positive. \n",
    "            The penalty is a squared l2 penalty.\n",
    "        kernel : `str`\n",
    "            The Kernel to use. {'poly', 'gauss'}.\n",
    "        param : `float`\n",
    "            Parameter of the kernel chosen, \n",
    "            i.e. the degree if polynomial or the gamma is gaussian. {'scale', 'auto'}\n",
    "        decision_function_shape : `NoneType` or `str`\n",
    "            The method for multiclass classification. {'ovo','ovr'}.\n",
    "        loss_fn : `str`\n",
    "            The loss function for the optimisation problem. {'L1','L2'}.\n",
    "        opt_algo : `str`\n",
    "            The optimisation method to use. {'barrier', 'smo'}.\n",
    "        \"\"\"         \n",
    "        self.C = float(C)\n",
    "        self.kernel = kernel\n",
    "        self.param  = param\n",
    "        self.decision_function_shape = decision_function_shape\n",
    "        self.loss_fn  = loss_fn\n",
    "        self.opt_algo = opt_algo\n",
    "        self.classifiers = dict()\n",
    "        \n",
    "    def fit(self, X, y):\n",
    "        \"\"\"\n",
    "        Function to train the SVM.\n",
    "        \n",
    "        Parameters:\n",
    "        -----------\n",
    "        X : `dict` of `numpy.ndarray` or `numpy.ndarray`\n",
    "             if self.decision_function_shape=\"ovo\":\n",
    "                 Dictionary of all the kchoose2 datasets for the classifiers.\n",
    "                (nData, nDim) matrix of data.\n",
    "             if self.decision_function_shape=\"ovr\"\n",
    "                 (nData, nDim) matrix of data.\n",
    "        y : `dict` of `numpy.ndarray`\n",
    "             if self.decision_function_shape=\"ovo\":\n",
    "                 Dictionary of labels for the kchoose2 classifiers.\n",
    "                (nData,) matrix of corresponding labels. Each element is in the set {-1,+1}.\n",
    "             if self.decision_function_shape=\"ovr\"\n",
    "                 Dictionary of labels for the k classifiers.\n",
    "                (nData,) matrix of corresponding labels. Each element is in the set {-1,+1}.\n",
    "        \"\"\"\n",
    "        self.opt_info = dict()\n",
    "        if self.decision_function_shape == \"ovo\":\n",
    "            for ClassVsClass, labels in y.items():\n",
    "                data = X[ClassVsClass]\n",
    "                # Get kernel matrix\n",
    "                if self.kernel == \"poly\":\n",
    "                    gamma = self.param\n",
    "                    kernel_matrix = polynomial_kernel_matrix(data, data, 0, gamma)\n",
    "                elif self.kernel == \"gauss\":\n",
    "                    if self.param == \"scale\":\n",
    "                        gamma = 1/(data.shape[1]*data.var())\n",
    "                    elif self.param == \"auto\":\n",
    "                        gamma = 1/data.shape[1]\n",
    "                    else:\n",
    "                        gamma = self.param\n",
    "                    kernel_matrix = gaussian_kernel_matrix(data, data, gamma)\n",
    "                # Fit classifiers\n",
    "                self.classifiers[ClassVsClass] = SVM(self.C, self.kernel, gamma)\n",
    "                self.opt_info[ClassVsClass] = self.classifiers[ClassVsClass].fit(data, labels, kernel_matrix, \n",
    "                                                                                 self.loss_fn, self.opt_algo)                   \n",
    "                \n",
    "        elif self.decision_function_shape == \"ovr\":\n",
    "            # Get kernel matrix\n",
    "            if self.kernel == \"poly\":\n",
    "                kernel_matrix = polynomial_kernel_matrix(X, X, 0, self.param)\n",
    "            elif self.kernel == \"gauss\":\n",
    "                if self.param == \"scale\":\n",
    "                    self.param = 1/(data.shape[1]*data.var())\n",
    "                elif self.param == \"auto\":\n",
    "                    self.param = 1/data.shape[1]  \n",
    "                kernel_matrix = gaussian_kernel_matrix(X, X, self.param) \n",
    "            # Fit classifiers\n",
    "            for ClassVsR, labels in y.items():\n",
    "                self.classifiers[ClassVsR] = SVM(self.C, self.kernel, self.param)\n",
    "                self.opt_info[ClassVsR] = self.classifiers[ClassVsR].fit(X, labels, kernel_matrix, \n",
    "                                                                         self.loss_fn, self.opt_algo)               \n",
    "        \n",
    "    def predict(self, X):\n",
    "        \"\"\"\n",
    "        Predict on test set.\n",
    "        \n",
    "        Parameters:\n",
    "        -----------\n",
    "        X : `numpy.ndarray`\n",
    "            (nData, nDim) matrix of test data. Each row corresponds to a data point.  \n",
    "            \n",
    "        Returns:\n",
    "        --------\n",
    "        yhats : `numpy.ndarray`\n",
    "            (nData,) List of predictions on the test data.\n",
    "        \"\"\"\n",
    "        nClassifiers = len(self.classifiers)\n",
    "        # Create matrix (nClassifiers, nTestData) \n",
    "        predictions = np.zeros((nClassifiers, X.shape[0]))\n",
    "        \n",
    "        if self.decision_function_shape == \"ovo\":\n",
    "            for i, (ClassVsClass, svm) in enumerate(self.classifiers.items()):\n",
    "                yhats = np.sign(svm.predict(X))\n",
    "                # Convert predictions labels to digits.\n",
    "                predictions[i,:] = self.convert_labels2digits(yhats, int(ClassVsClass[0]), int(ClassVsClass[-1]))\n",
    "            # Return the mode label for each test data point.\n",
    "            # If there is more than one such value, only the smallest is returned.\n",
    "            return np.squeeze(stats.mode(predictions, axis=0)[0])\n",
    "       \n",
    "        elif self.decision_function_shape == \"ovr\":\n",
    "            mapping = dict()\n",
    "            for i, (ClassVsR, svm) in enumerate(self.classifiers.items()):\n",
    "                predictions[i,:] = svm.predict(X)\n",
    "                mapping[i] = int(ClassVsR[0])\n",
    "            # Return the label with the highest value.\n",
    "            return np.array([mapping[i] for i in np.argmax(predictions, axis=0)])\n",
    "        \n",
    "    @staticmethod\n",
    "    def convert_labels2digits(yhats, pos_label, neg_label):\n",
    "        \"\"\"\n",
    "        Functions that maps +1 to the positive class label \n",
    "        and -1 to the negative class label.\n",
    "        \n",
    "        Parameters:\n",
    "        -----------\n",
    "        yhats : `numpy.ndarray`\n",
    "            The predictions from the classifier.\n",
    "        pos_label : `int`\n",
    "            The positive class label.\n",
    "        neg_label : `int`\n",
    "            The negative class label.\n",
    "            \n",
    "        Returns:\n",
    "        --------\n",
    "        digits : `numpy.ndarray`\n",
    "            The predicitions mapped to the class labels +1 -> pos_labels, -1 -> neg_labels.\n",
    "        \"\"\"\n",
    "        return np.where(yhats==1, pos_label, neg_label)        "
   ]
  },
  {
   "cell_type": "code",
   "execution_count": 6,
   "metadata": {},
   "outputs": [],
   "source": [
    "class SVM:\n",
    "    \"\"\"\n",
    "    Soft-margin kernalised SVM base class\n",
    "    \"\"\"\n",
    "    def __init__(self, C=1.0, kernel='gauss', param=0.5):\n",
    "        \"\"\"\n",
    "        Arguments:\n",
    "        ----------\n",
    "        C : `float`\n",
    "            Regularization parameter. The strength of the regularization is \n",
    "            inversely proportional to C. Must be strictly positive. \n",
    "            The penalty is a squared l2 penalty.  \n",
    "        kernel : `str`\n",
    "            The Kernel to use. {'poly', 'gauss'}.      \n",
    "        param : `float`\n",
    "            Parameter of the kernel chosen, \n",
    "            i.e. the degree if polynomial or the gamma is gaussian.             \n",
    "        \"\"\"        \n",
    "        self.C = float(C)\n",
    "        self.kernel = kernel\n",
    "        self.param  = param\n",
    "        \n",
    "    def fit(self, X, y, kernel_matrix, loss_fn, opt_algo):\n",
    "        \"\"\"\n",
    "        TODO: Function to fit SVM.\n",
    "        \n",
    "        min 0.5x^TPx + q^Tx\n",
    "        s.t. Gx <= h\n",
    "             Ax = b        \n",
    "        \n",
    "        Parameters:\n",
    "        -----------\n",
    "        X : `numpy.ndarray`\n",
    "            (nData, nDim) matrix of data. Each row corresponds to a data point.\n",
    "        y : `numpy.ndarray`\n",
    "            (nData,) matrix of corresponding labels. Each element is in the set {-1,+1}.\n",
    "        kernel_matrix : `numpy.ndarray`\n",
    "            (nData, nData) Kernel matrix of training data.  \n",
    "        loss_fn : `str`\n",
    "            The loss function for the optimisation problem. {'L1','L2'}.            \n",
    "        opt_algo : `str`\n",
    "            The optimisation method to use. {'barrier', 'smo'}.\n",
    "            \n",
    "        Returns:\n",
    "        --------\n",
    "        opt_info : `dict`\n",
    "            Information about optimisation.            \n",
    "        \"\"\" \n",
    "        # Convert data to floats\n",
    "        X = X.astype(float)\n",
    "        y = y[:,None].astype(float)\n",
    "        n, d = X.shape\n",
    "        \n",
    "        # Parameters of optimisation problem\n",
    "        if loss_fn == 'L1':\n",
    "            P = y@y.T*kernel_matrix\n",
    "            q = -np.ones((n,1))\n",
    "            G = np.vstack((-np.eye(n), \n",
    "                            np.eye(n)))\n",
    "            h = np.vstack((np.zeros((n,1)), \n",
    "                           self.C*np.ones((n,1))))\n",
    "            A = y.T\n",
    "            b = np.zeros(1)    \n",
    "        elif loss_fn == 'L2':\n",
    "            P = y@y.T*(kernel_matrix + 1/self.C * np.eye(n))\n",
    "            q = -np.ones((n,1))\n",
    "            G = -np.eye(n)\n",
    "            h = np.zeros((n,1))\n",
    "            A = y.T\n",
    "            b = np.zeros(1)  \n",
    "        \n",
    "        # Optimisation        \n",
    "        if opt_algo == \"barrier\":      \n",
    "            # Interior point barrier method specific parameters\n",
    "            x0  = feasible_starting_point(y, self.C)  \n",
    "            t   = 1             \n",
    "            mu  = 1.01\n",
    "            tol = 1e-5\n",
    "            max_iter = 100              \n",
    "            # Solve QP problem\n",
    "            sol = barrier_method(P, q, G, h, A, b, x0, t, mu, tol, max_iter) \n",
    "            # Get lambdas (the Lagrange multipliers)\n",
    "            lambdas = sol['x']\n",
    "            \n",
    "        elif opt_algo == \"smo\":\n",
    "            # Sequential minimal optimisation method specific parameters\n",
    "            x0 = np.zeros((n,1)) \n",
    "            tol = 1e-3\n",
    "            max_iter = 100               \n",
    "            pass   \n",
    "        \n",
    "        elif opt_algo == \"cvxopt\":\n",
    "            P = cvxopt.matrix(P)\n",
    "            q = cvxopt.matrix(q)\n",
    "            G = cvxopt.matrix(G)\n",
    "            h = cvxopt.matrix(h)\n",
    "            A = cvxopt.matrix(A)\n",
    "            b = cvxopt.matrix(b)         \n",
    "            # Setting solver parameters\n",
    "            cvxopt.solvers.options['show_progress'] = False   \n",
    "            # Solve QP problem\n",
    "            sol = cvxopt.solvers.qp(P, q, G, h, A, b)\n",
    "            # Get lambdas (the Lagrange multipliers)\n",
    "            lambdas = np.array(sol['x'])\n",
    "              \n",
    "        # Support vectors have non-zero lambdas\n",
    "        SV  = np.logical_and(lambdas>1e-5, lambdas<=self.C).flatten() # Margin and non-margin support vectors\n",
    "        MSV = np.logical_and(lambdas>1e-5, lambdas<self.C).flatten()  # Margin support vectors\n",
    "        self.lambdas = lambdas[SV]\n",
    "        self.sv   = X[SV]\n",
    "        self.sv_y = y[SV] \n",
    "        # Get intercept\n",
    "        self.bias = np.mean(y[SV] - ((lambdas[SV]*y[SV]).T@kernel_matrix[SV][:,SV]).T) \n",
    "        \n",
    "        # TODO: Remove\n",
    "        print(\"Number of support vectors: \", len(SV))\n",
    "        print(\"Intercept:                 \", self.bias)\n",
    "#         print(\"lambdas:                   \", lambdas)\n",
    "        return sol\n",
    "\n",
    "    def predict(self, X):\n",
    "        \"\"\"\n",
    "        Predict on test set.\n",
    "        \n",
    "        Parameters:\n",
    "        -----------\n",
    "        X : `numpy.ndarray`\n",
    "            (nData, nDim) matrix of test data. Each row corresponds to a data point.              \n",
    "            \n",
    "        Returns:\n",
    "        --------\n",
    "        yhats : `numpy.ndarray`\n",
    "            (nData,) List of predictions on the test data, not corresponding to labels {-1,+1}\n",
    "            Need to take np.sign() after.\n",
    "        \"\"\"               \n",
    "        # Get kernel matrix between support vectors and test data\n",
    "        if self.kernel == \"poly\":\n",
    "            kernel_matrix = polynomial_kernel_matrix(self.sv, X, 0, self.param)\n",
    "        elif self.kernel == \"gauss\":\n",
    "            kernel_matrix = gaussian_kernel_matrix(self.sv, X, self.param) \n",
    "        return np.squeeze((self.lambdas*self.sv_y).T@kernel_matrix + self.bias)"
   ]
  },
  {
   "cell_type": "code",
   "execution_count": 7,
   "metadata": {},
   "outputs": [],
   "source": [
    "def feasible_starting_point(y, C):\n",
    "    \"\"\"\n",
    "    TODO: Understand and write a better one.\n",
    "    \"\"\"\n",
    "    total_num = len(y)\n",
    "    pos = np.sum(y==1)\n",
    "    pos_frac = pos / (total_num-pos)\n",
    "    x0 = np.zeros((total_num,1))\n",
    "    for i in range(total_num):\n",
    "        if y[i]==1:\n",
    "            x0[i] = C*(1-pos/total_num)\n",
    "        else:\n",
    "            x0[i] = C*pos_frac*(1-pos/total_num)\n",
    "    return x0"
   ]
  },
  {
   "cell_type": "markdown",
   "metadata": {},
   "source": [
    "### Optimisation Algorithm 1: Interior Point Barrier Method"
   ]
  },
  {
   "cell_type": "markdown",
   "metadata": {},
   "source": [
    "### Optimisation Algorithm 2: SMO Method"
   ]
  },
  {
   "cell_type": "code",
   "execution_count": 8,
   "metadata": {},
   "outputs": [],
   "source": [
    "def smo(P, q, G, h, A, b, x0, tol, max_iter):\n",
    "    pass\n",
    "    "
   ]
  },
  {
   "cell_type": "markdown",
   "metadata": {},
   "source": [
    "## Main"
   ]
  },
  {
   "cell_type": "markdown",
   "metadata": {},
   "source": [
    "#### Scikit-Learn SVM"
   ]
  },
  {
   "cell_type": "code",
   "execution_count": 9,
   "metadata": {},
   "outputs": [],
   "source": [
    "from sklearn.svm import SVC as cheatSVM\n",
    "cheat_svm = cheatSVM(C=1.0,\n",
    "                     kernel='rbf',\n",
    "                     decision_function_shape='ovo') \n",
    "cheat_svm.fit(x_train, y_train)\n",
    "cheat_pred = cheat_svm.predict(x_test)"
   ]
  },
  {
   "cell_type": "code",
   "execution_count": 10,
   "metadata": {},
   "outputs": [
    {
     "name": "stdout",
     "output_type": "stream",
     "text": [
      "Accuracy:                   0.995\n",
      "Number of support vectors:  [37 34]\n",
      "Intercept:                  [-0.53623378]\n"
     ]
    }
   ],
   "source": [
    "print(\"Accuracy:                  \", accuracy_score(y_test, cheat_pred))\n",
    "print(\"Number of support vectors: \", cheat_svm.n_support_)\n",
    "print(\"Intercept:                 \", cheat_svm.intercept_)"
   ]
  },
  {
   "cell_type": "markdown",
   "metadata": {},
   "source": [
    "#### My SVM"
   ]
  },
  {
   "cell_type": "code",
   "execution_count": 11,
   "metadata": {},
   "outputs": [],
   "source": [
    "# OVO data\n",
    "x_train_ovo, y_train_ovo = split4ovo(x_train, y_train)\n",
    "# OVR data\n",
    "y_train_ovr = split4ovr(y_train)"
   ]
  },
  {
   "cell_type": "code",
   "execution_count": 12,
   "metadata": {
    "scrolled": true
   },
   "outputs": [
    {
     "name": "stdout",
     "output_type": "stream",
     "text": [
      "Barrier Method Iter:  0\n"
     ]
    },
    {
     "name": "stderr",
     "output_type": "stream",
     "text": [
      "/Users/udeepa/Documents/UCL/Term 2/numerical/svm/opt/algos/interior_point.py:312: RuntimeWarning: invalid value encountered in log\n",
      "  return -np.sum(np.log(self.h - self.G@x + np.spacing(1)))\n"
     ]
    },
    {
     "name": "stdout",
     "output_type": "stream",
     "text": [
      "Barrier Method Iter:  1\n",
      "Barrier Method Iter:  2\n",
      "Barrier Method Iter:  3\n",
      "Barrier Method Iter:  4\n",
      "Barrier Method Iter:  5\n",
      "Barrier Method Iter:  6\n",
      "Barrier Method Iter:  7\n",
      "Barrier Method Iter:  8\n",
      "Barrier Method Iter:  9\n",
      "Barrier Method Iter:  10\n",
      "Barrier Method Iter:  11\n",
      "Barrier Method Iter:  12\n",
      "Barrier Method Iter:  13\n",
      "Barrier Method Iter:  14\n",
      "Barrier Method Iter:  15\n",
      "Barrier Method Iter:  16\n",
      "Barrier Method Iter:  17\n",
      "Barrier Method Iter:  18\n",
      "Barrier Method Iter:  19\n",
      "Barrier Method Iter:  20\n",
      "Barrier Method Iter:  21\n",
      "Barrier Method Iter:  22\n",
      "Barrier Method Iter:  23\n",
      "Barrier Method Iter:  24\n",
      "Barrier Method Iter:  25\n",
      "Barrier Method Iter:  26\n",
      "Barrier Method Iter:  27\n",
      "Barrier Method Iter:  28\n",
      "Barrier Method Iter:  29\n",
      "Barrier Method Iter:  30\n",
      "Barrier Method Iter:  31\n",
      "Barrier Method Iter:  32\n",
      "Barrier Method Iter:  33\n",
      "Barrier Method Iter:  34\n",
      "Barrier Method Iter:  35\n",
      "Barrier Method Iter:  36\n",
      "Barrier Method Iter:  37\n",
      "Barrier Method Iter:  38\n",
      "Barrier Method Iter:  39\n",
      "Barrier Method Iter:  40\n",
      "Barrier Method Iter:  41\n",
      "Barrier Method Iter:  42\n",
      "Barrier Method Iter:  43\n",
      "Barrier Method Iter:  44\n",
      "Barrier Method Iter:  45\n",
      "Barrier Method Iter:  46\n",
      "Barrier Method Iter:  47\n",
      "Barrier Method Iter:  48\n",
      "Barrier Method Iter:  49\n",
      "Barrier Method Iter:  50\n",
      "Barrier Method Iter:  51\n",
      "Barrier Method Iter:  52\n",
      "Barrier Method Iter:  53\n",
      "Barrier Method Iter:  54\n",
      "Barrier Method Iter:  55\n",
      "Barrier Method Iter:  56\n",
      "Barrier Method Iter:  57\n",
      "Barrier Method Iter:  58\n",
      "Barrier Method Iter:  59\n",
      "Barrier Method Iter:  60\n",
      "Barrier Method Iter:  61\n",
      "Barrier Method Iter:  62\n",
      "Barrier Method Iter:  63\n",
      "Barrier Method Iter:  64\n",
      "Barrier Method Iter:  65\n",
      "Barrier Method Iter:  66\n",
      "Barrier Method Iter:  67\n",
      "Barrier Method Iter:  68\n",
      "Barrier Method Iter:  69\n",
      "Barrier Method Iter:  70\n",
      "Barrier Method Iter:  71\n",
      "Barrier Method Iter:  72\n",
      "Barrier Method Iter:  73\n",
      "Barrier Method Iter:  74\n",
      "Barrier Method Iter:  75\n",
      "Barrier Method Iter:  76\n",
      "Barrier Method Iter:  77\n",
      "Barrier Method Iter:  78\n",
      "Barrier Method Iter:  79\n",
      "Barrier Method Iter:  80\n",
      "Barrier Method Iter:  81\n",
      "Barrier Method Iter:  82\n",
      "Barrier Method Iter:  83\n",
      "Barrier Method Iter:  84\n",
      "Barrier Method Iter:  85\n",
      "Barrier Method Iter:  86\n",
      "Barrier Method Iter:  87\n",
      "Barrier Method Iter:  88\n",
      "Barrier Method Iter:  89\n",
      "Barrier Method Iter:  90\n",
      "Barrier Method Iter:  91\n",
      "Barrier Method Iter:  92\n",
      "Barrier Method Iter:  93\n",
      "Barrier Method Iter:  94\n",
      "Barrier Method Iter:  95\n",
      "Barrier Method Iter:  96\n",
      "Barrier Method Iter:  97\n",
      "Barrier Method Iter:  98\n",
      "Barrier Method Iter:  99\n",
      "Number of support vectors:  600\n",
      "Intercept:                  -77.41400968136168\n"
     ]
    },
    {
     "data": {
      "text/plain": [
       "0.9925"
      ]
     },
     "execution_count": 12,
     "metadata": {},
     "output_type": "execute_result"
    }
   ],
   "source": [
    "# Parameters\n",
    "gamma =  1 / x_train.shape[1]\n",
    "# Initialise SVM\n",
    "svm = SVC(C=1.0, \n",
    "          kernel=\"gauss\", \n",
    "          param=gamma, \n",
    "          decision_function_shape=\"ovo\",\n",
    "          loss_fn='L1',\n",
    "          opt_algo=\"barrier\")\n",
    "\n",
    "# Train: OVO\n",
    "svm.fit(x_train_ovo, y_train_ovo)\n",
    "\n",
    "# Train: OVR\n",
    "# svm.fit(x_train, y_train_ovr)\n",
    "\n",
    "# # Test\n",
    "yhat = svm.predict(x_test)\n",
    "accuracy_score(y_test, yhat)"
   ]
  },
  {
   "cell_type": "code",
   "execution_count": 13,
   "metadata": {},
   "outputs": [],
   "source": [
    "# X = x_train.astype(float)\n",
    "# y = y_train_ovr[\"1\"][:,None].astype(float)\n",
    "# n, d = X.shape\n",
    "# kernel_matrix = gaussian_kernel_matrix(X, X, 0.5)   \n",
    "# C = 1\n",
    "\n",
    "# P = y@y.T*kernel_matrix\n",
    "# q = -np.ones((n,1))\n",
    "# G = np.vstack((-np.eye(n), \n",
    "#                 np.eye(n)))\n",
    "# h = np.vstack((np.zeros((n,1)), \n",
    "#                C*np.ones((n,1))))\n",
    "# A = y.T\n",
    "# b = np.zeros(1)  \n",
    "\n",
    "# x0 = np.random.randn(n,1)"
   ]
  },
  {
   "cell_type": "markdown",
   "metadata": {},
   "source": [
    "#### Convergence Plots"
   ]
  },
  {
   "cell_type": "code",
   "execution_count": 14,
   "metadata": {},
   "outputs": [
    {
     "data": {
      "image/png": "[encoded data removed]",
      "text/plain": [
       "<Figure size 720x720 with 1 Axes>"
      ]
     },
     "metadata": {
      "needs_background": "light"
     },
     "output_type": "display_data"
    }
   ],
   "source": [
    "plt.figure(figsize=(10,10))\n",
    "for ClassVsClass, info in svm.opt_info.items():\n",
    "    plt.plot(np.linalg.norm(np.array(info['iterates'])-info['x'], axis=1), label=ClassVsClass)\n",
    "plt.title(\"Iterate Convergence Plot\")\n",
    "plt.ylabel(\"$|| \\mathbf{x}_k-\\mathbf{x}^{\\star} ||_2$\")\n",
    "plt.xlabel(\"Iterations $k$\")\n",
    "plt.yscale(\"log\")\n",
    "plt.legend()\n",
    "plt.grid(which='both', axis='both')\n",
    "plt.show()"
   ]
  },
  {
   "cell_type": "code",
   "execution_count": 15,
   "metadata": {},
   "outputs": [
    {
     "data": {
      "image/png": "[encoded data removed]",
      "text/plain": [
       "<Figure size 720x720 with 1 Axes>"
      ]
     },
     "metadata": {
      "needs_background": "light"
     },
     "output_type": "display_data"
    }
   ],
   "source": [
    "plt.figure(figsize=(10,10))\n",
    "for ClassVsClass, info in svm.opt_info.items():\n",
    "    plt.step(np.cumsum(info['newton_iterations']), info['duality_gaps'], \n",
    "             label=str(ClassVsClass)+\": $\\mu=$\"+str(info['mu']))\n",
    "plt.title(\"Progress of Barrier method\")\n",
    "plt.ylabel(\"Duality Gap $m\\;/\\;t_k$\")\n",
    "plt.xlabel(\"Cumulative Newton Iterations\")\n",
    "plt.yscale(\"log\")\n",
    "plt.legend()    \n",
    "plt.grid(which='both', axis='both')\n",
    "plt.show()"
   ]
  },
  {
   "cell_type": "code",
   "execution_count": null,
   "metadata": {},
   "outputs": [],
   "source": []
  }
 ],
 "metadata": {
  "kernelspec": {
   "display_name": "Python 3",
   "language": "python",
   "name": "python3"
  },
  "language_info": {
   "codemirror_mode": {
    "name": "ipython",
    "version": 3
   },
   "file_extension": ".py",
   "mimetype": "text/x-python",
   "name": "python",
   "nbconvert_exporter": "python",
   "pygments_lexer": "ipython3",
   "version": "3.6.8"
  }
 },
 "nbformat": 4,
 "nbformat_minor": 2
}
